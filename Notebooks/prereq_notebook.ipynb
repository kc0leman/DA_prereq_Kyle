{
 "cells": [
  {
   "cell_type": "code",
   "execution_count": 1,
   "id": "2fb1f2c6",
   "metadata": {},
   "outputs": [
    {
     "name": "stdout",
     "output_type": "stream",
     "text": [
      "The square of 3 is 9.\n"
     ]
    }
   ],
   "source": [
    "number = 3\n",
    "square = number ** 2\n",
    "print(f\"The square of {number} is {square}.\")"
   ]
  },
  {
   "cell_type": "markdown",
   "id": "98efe954",
   "metadata": {},
   "source": [
    "Hello, my name is Kyle and I'm from Pike County, KY. I'm currently hopeful to have a career change from what I currently do to this. I've always been fascinated with technology and how it continues to grow and shape our everyday lives. I look forward to progressing through the data analysis pathway to focus on areas of machine learning and real-world data analysis. Lastly, I am beyond grateful for this opportunity and appreciate the work everyone has put into this program. Thank you!"
   ]
  }
 ],
 "metadata": {
  "kernelspec": {
   "display_name": "Python 3",
   "language": "python",
   "name": "python3"
  },
  "language_info": {
   "codemirror_mode": {
    "name": "ipython",
    "version": 3
   },
   "file_extension": ".py",
   "mimetype": "text/x-python",
   "name": "python",
   "nbconvert_exporter": "python",
   "pygments_lexer": "ipython3",
   "version": "3.13.5"
  }
 },
 "nbformat": 4,
 "nbformat_minor": 5
}
